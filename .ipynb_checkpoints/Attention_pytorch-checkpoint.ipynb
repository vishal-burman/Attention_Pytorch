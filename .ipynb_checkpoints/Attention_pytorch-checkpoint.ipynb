{
 "cells": [
  {
   "cell_type": "code",
   "execution_count": 1,
   "metadata": {},
   "outputs": [],
   "source": [
    "# Packages\n",
    "import torch\n",
    "import torch.nn as nn\n",
    "import torch.optim as optim\n",
    "\n",
    "import torchtext\n",
    "from torchtext.datasets import TranslationDataset, Multi30k\n",
    "from torchtext.data import Field, BucketIterator\n",
    "\n",
    "import matplotlib.pyplot as plt\n",
    "import matplotlib.ticker as ticker\n",
    "\n",
    "import spacy\n",
    "import numpy as np\n",
    "\n",
    "import random\n",
    "import math\n",
    "import time"
   ]
  },
  {
   "cell_type": "code",
   "execution_count": 2,
   "metadata": {},
   "outputs": [],
   "source": [
    "# ! python -m spacy download de"
   ]
  },
  {
   "cell_type": "code",
   "execution_count": 3,
   "metadata": {},
   "outputs": [],
   "source": [
    "# ! python -m spacy download en"
   ]
  },
  {
   "cell_type": "code",
   "execution_count": 4,
   "metadata": {},
   "outputs": [],
   "source": [
    "# Create the tokenizers\n",
    "spacy_de=spacy.load('de')\n",
    "spacy_en=spacy.load('en')"
   ]
  },
  {
   "cell_type": "code",
   "execution_count": 5,
   "metadata": {},
   "outputs": [],
   "source": [
    "def tokenize_de(text):\n",
    "    \"\"\" Tokenizes german text from a string into a list of strings \"\"\"\n",
    "    return [tok.text for tok in spacy_de.tokenizer(text)]\n",
    "\n",
    "def tokenize_en(text):\n",
    "    \"\"\" Tokenizes english text from a string into a list of strings \"\"\"\n",
    "    return [tok.text for tok in spacy_en.tokenizer(text)]"
   ]
  },
  {
   "cell_type": "code",
   "execution_count": 6,
   "metadata": {},
   "outputs": [],
   "source": [
    "# The model expects data to be fed in with batch dimension first, so we use batch_first=True"
   ]
  },
  {
   "cell_type": "code",
   "execution_count": 7,
   "metadata": {},
   "outputs": [],
   "source": [
    "SRC=Field(tokenize=tokenize_de, init_token='<sos>', eos_token='<eos>', lower=True, batch_first=True)\n",
    "\n",
    "TRG=Field(tokenize=tokenize_en, init_token='<sos>', eos_token='<sos>', lower=True, batch_first=True)"
   ]
  },
  {
   "cell_type": "code",
   "execution_count": 8,
   "metadata": {},
   "outputs": [],
   "source": [
    "# We load the Multi30k dataset and build the vocabulary"
   ]
  },
  {
   "cell_type": "code",
   "execution_count": 9,
   "metadata": {},
   "outputs": [],
   "source": [
    "train_data, valid_data, test_data=Multi30k.splits(exts=('.de', '.en'), fields=(SRC, TRG))"
   ]
  },
  {
   "cell_type": "code",
   "execution_count": 10,
   "metadata": {},
   "outputs": [],
   "source": [
    "SRC.build_vocab(train_data, min_freq=2)\n",
    "TRG.build_vocab(train_data, min_freq=2)"
   ]
  },
  {
   "cell_type": "code",
   "execution_count": 11,
   "metadata": {},
   "outputs": [],
   "source": [
    "# Finally we define the device and the data iterator"
   ]
  },
  {
   "cell_type": "code",
   "execution_count": 12,
   "metadata": {},
   "outputs": [],
   "source": [
    "device=torch.device('cuda' if torch.cuda.is_available() else 'cpu')"
   ]
  },
  {
   "cell_type": "code",
   "execution_count": 13,
   "metadata": {},
   "outputs": [],
   "source": [
    "BATCH_SIZE=64\n",
    "\n",
    "# train_iterator, valid_iterator, test_iterator=BucketIterator.splits((train_data, valid_data, test_data), batch_sizes=BATCH_SIZE, device=device)\n",
    "train_iterator, valid_iterator, test_iterator = BucketIterator.splits(\n",
    "    (train_data, valid_data, test_data), \n",
    "     batch_size = BATCH_SIZE,\n",
    "     device = device)"
   ]
  },
  {
   "cell_type": "markdown",
   "metadata": {},
   "source": [
    "# Building the model"
   ]
  },
  {
   "cell_type": "markdown",
   "metadata": {},
   "source": [
    "## Encoder"
   ]
  },
  {
   "cell_type": "code",
   "execution_count": 14,
   "metadata": {},
   "outputs": [],
   "source": [
    "class Encoder(nn.Module):\n",
    "    def __init__(self, input_dim, hid_dim, n_layers, n_heads, pf_dim, dropout, device, max_length=100):\n",
    "        super().__init__()\n",
    "        \n",
    "        self.device=device\n",
    "        self.tok_embedding=nn.Embedding(input_dim, hid_dim)\n",
    "        self.pos_embedding=nn.Embedding(max_length, hid_dim)\n",
    "        \n",
    "        self.layers=nn.ModuleList([EncoderLayer(hid_dim, n_heads, pf_dim, dropout, device) for _ in range(n_layers)])\n",
    "        \n",
    "        self.dropout=nn.Dropout(dropout)\n",
    "        \n",
    "        self.scale=torch.sqrt(torch.FloatTensor([hid_dim])).to(device)\n",
    "        \n",
    "    def forward(self, src, src_mask):\n",
    "        # src= [batch_size, src_len]\n",
    "        # src_mask=[batch_size, src_len]\n",
    "        \n",
    "        batch_size=src.shape[0]\n",
    "        src_len=src.shape[1]\n",
    "        \n",
    "        pos=torch.arange(0, src_len).unsqueeze(0).repeat(batch_size, 1).to(self.device)\n",
    "        \n",
    "        # pos=[batch_size, src_len]\n",
    "        \n",
    "        src=self.dropout((self.tok_embedding(src) * self.scale) + self.pos_embedding(pos))\n",
    "        \n",
    "        # src=[batch_size, src_len, hid_dim]\n",
    "        \n",
    "        for layer in self.layers:\n",
    "            src=layer(src, src_mask)\n",
    "        \n",
    "        # src=[batch_size, src_len, hid_dim]\n",
    "        \n",
    "        return src"
   ]
  },
  {
   "cell_type": "markdown",
   "metadata": {},
   "source": [
    "## Encoder Layer"
   ]
  },
  {
   "cell_type": "code",
   "execution_count": 15,
   "metadata": {},
   "outputs": [],
   "source": [
    "class EncoderLayer(nn.Module):\n",
    "    def __init__(self, hid_dim, n_heads, pf_dim, dropout, device):\n",
    "        super().__init__()\n",
    "        self.layer_norm=nn.LayerNorm(hid_dim)\n",
    "        self.self_attention=MultiHeadAttentionLayer(hid_dim, n_heads, dropout, device)\n",
    "        self.positionwise_feedforward=PositionwiseFeedforwardLayer(hid_dim, pf_dim, dropout)\n",
    "        self.dropout=nn.Dropout(dropout)\n",
    "        \n",
    "    def forward(self, src, src_mask):\n",
    "        # src = [batch_size, src_len, hid_dim]\n",
    "        # src_mask = [batch_size, src_len]\n",
    "\n",
    "        # self attention\n",
    "        _src, _ = self.self_attention(src, src, src, src_mask)\n",
    "\n",
    "        #dropout, residual connection and layer norm\n",
    "        src=self.layer_norm(src+self.dropout(_src))\n",
    "        # src = [batch_size, src_len, hid_dim]\n",
    "\n",
    "        # positionwise feedforward\n",
    "        _src = self.positionwise_feedforward(src)\n",
    "\n",
    "        # dropout, residual connection and layer norm\n",
    "        src=self.layer_norm(src + self.dropout(_src))\n",
    "        # src = [batch_size, src_len, hid_dim]\n",
    "\n",
    "        return src"
   ]
  },
  {
   "cell_type": "markdown",
   "metadata": {},
   "source": [
    "## MultiHead Attention Layer"
   ]
  },
  {
   "cell_type": "code",
   "execution_count": 16,
   "metadata": {},
   "outputs": [],
   "source": [
    "class MultiHeadAttentionLayer(nn.Module):\n",
    "    def __init__(self, hid_dim, n_heads, dropout, device):\n",
    "        super().__init__()\n",
    "        \n",
    "        assert hid_dim%n_heads==0\n",
    "        \n",
    "        self.hid_dim=hid_dim\n",
    "        self.n_heads=n_heads\n",
    "        self.head_dim=hid_dim//n_heads\n",
    "        \n",
    "        self.fc_q=nn.Linear(hid_dim, hid_dim)\n",
    "        self.fc_k=nn.Linear(hid_dim, hid_dim)\n",
    "        self.fc_v=nn.Linear(hid_dim, hid_dim)\n",
    "        \n",
    "        self.fc_o=nn.Linear(hid_dim, hid_dim)\n",
    "        \n",
    "        self.dropout=nn.Dropout(dropout)\n",
    "        \n",
    "        self.scale=torch.sqrt(torch.FloatTensor([self.hid_dim])).to(device)\n",
    "        \n",
    "    def forward(self, query, key, value, mask=None):\n",
    "\n",
    "        batch_size=query.shape[0]\n",
    "\n",
    "        # query = [batch_size, query_len, hid_dim]\n",
    "        # key = [batch_size, key_len, hid_dim]\n",
    "        # value = [batch_size, value_len, hid_dim]\n",
    "\n",
    "        Q = self.fc_q(query)\n",
    "        K = self.fc_k(key)\n",
    "        V = self.fc_v(value)\n",
    "\n",
    "        Q = Q.view(batch_size, -1, self.n_heads, self.head_dim).permute(0, 2, 1, 3)\n",
    "        K = K.view(batch_size, -1, self.n_heads, self.head_dim).permute(0, 2, 1, 3)\n",
    "        V = V.view(batch_size, -1, self.n_heads, self.head_dim).permute(0, 2, 1, 3)\n",
    "        # Q = [batch_size, n_heads, query_len, hid_dim]\n",
    "        # K = [batch_size, n_heads, key_len, hid_dim]\n",
    "        # V = [batch_size, n_heads, value_len, hid_dim]\n",
    "\n",
    "        energy=torch.matmul(Q, K.permute(0, 1, 3, 2))/self.scale\n",
    "        # energy = [batch_size, n_heads, seq_len, seq_len]\n",
    "\n",
    "        if mask is not None:\n",
    "            energy = energy.masked_fill(mask==0, 1e-10)\n",
    "\n",
    "        attention = torch.softmax(energy, dim=-1)\n",
    "        # attention = [batch_size, n_heads, query_len, key_len]\n",
    "\n",
    "        x = torch.matmul(self.dropout(attention), V)\n",
    "        # x = [batch_size, n_heads, seq_len, head_dim]\n",
    "\n",
    "        x = x.permute(0, 2, 1, 3).contiguous()\n",
    "        # x = [batch_size, seq_len, n_heads, head_dim]\n",
    "\n",
    "        x = x.view(batch_size, -1, self.hid_dim)\n",
    "        # x = [batch_size, seq_len, hid_dim]\n",
    "\n",
    "        x=self.fc_o(x)\n",
    "        # x = [batch_size, seq_len, hid_dim]\n",
    "\n",
    "        return x, attention"
   ]
  },
  {
   "cell_type": "markdown",
   "metadata": {},
   "source": [
    "## Position-wise Feedforward Layer"
   ]
  },
  {
   "cell_type": "code",
   "execution_count": 17,
   "metadata": {},
   "outputs": [],
   "source": [
    "class PositionwiseFeedforwardLayer(nn.Module):\n",
    "    def __init__(self, hid_dim, pf_dim, dropout):\n",
    "        super().__init__()\n",
    "        \n",
    "        self.fc_1 = nn.Linear(hid_dim, pf_dim)\n",
    "        self.fc_2 = nn.Linear(pf_dim, hid_dim)\n",
    "        \n",
    "        self.dropout=nn.Dropout(dropout)\n",
    "        \n",
    "    def forward(self, x):\n",
    "        # x = [batch_size, seq_len, hid_dim]\n",
    "\n",
    "        x=self.dropout(torch.relu(self.fc_1(x)))\n",
    "        # x=[batch_size, seq_len, pf_dim]\n",
    "\n",
    "        x=self.fc_2(x)\n",
    "        # x=[batch_size, seq_len, hid_dim]\n",
    "\n",
    "        return x"
   ]
  },
  {
   "cell_type": "markdown",
   "metadata": {},
   "source": [
    "## Decoder"
   ]
  },
  {
   "cell_type": "code",
   "execution_count": 18,
   "metadata": {},
   "outputs": [],
   "source": [
    "class Decoder(nn.Module):\n",
    "    def __init__(self, output_dim, hid_dim, n_layers, n_heads, pf_dim, dropout, device, max_length=100):\n",
    "        super().__init__()\n",
    "        \n",
    "        self.device=device\n",
    "        \n",
    "        self.tok_embedding=nn.Embedding(output_dim, hid_dim)\n",
    "        self.pos_embedding=nn.Embedding(max_length, hid_dim)\n",
    "        \n",
    "        self.layers=nn.ModuleList([DecoderLayer(hid_dim, n_heads, pf_dim, dropout, device) for _ in range(n_layers)])\n",
    "        \n",
    "        self.fc_out=nn.Linear(hid_dim, output_dim)\n",
    "        \n",
    "        self.dropout=nn.Dropout(dropout)\n",
    "        \n",
    "        self.scale=torch.sqrt(torch.FloatTensor([hid_dim])).to(device)\n",
    "        \n",
    "    def forward(self, trg, enc_src, trg_mask, src_mask):\n",
    "        # trg=[batch_size, trg_len]\n",
    "        # enc_src=[batch_size, src_len, hid_dim]\n",
    "        # trg_mask=[batch_size, trg_len]\n",
    "        # src_mask=[batch_size, src_len]\n",
    "        \n",
    "        batch_size=trg.shape[0]\n",
    "        trg_len=trg.shape[1]\n",
    "        \n",
    "        pos=torch.arange(0, trg_len).unsqueeze(0).repeat(batch_size, 1).to(self.device)\n",
    "        #pos=[batch_size, trg_len]\n",
    "        \n",
    "        trg=self.dropout((self.tok_embedding(trg)*self.scale)+self.pos_embedding(pos))\n",
    "        # trg=[batch_size, trg_len, hid_dim]\n",
    "        \n",
    "        for layer in self.layers:\n",
    "            trg, attention=layer(trg, enc_src, trg_mask, src_mask)\n",
    "            \n",
    "        # trg=[batch_size, trg_len, hid_dim]\n",
    "        # attention=[batch_size, n_heads, trg_len, src_len]\n",
    "        \n",
    "        output=self.fc_out(trg)\n",
    "        # output=[batch_size, trg_len, output_dim]\n",
    "        \n",
    "        return output, attention"
   ]
  },
  {
   "cell_type": "markdown",
   "metadata": {},
   "source": [
    "## Decoder Layer"
   ]
  },
  {
   "cell_type": "code",
   "execution_count": 19,
   "metadata": {},
   "outputs": [],
   "source": [
    "class DecoderLayer(nn.Module):\n",
    "    def __init__(self, hid_dim, n_heads, pf_dim, dropout, device):\n",
    "        super().__init__()\n",
    "        \n",
    "        self.layer_norm=nn.LayerNorm(hid_dim)\n",
    "        self.self_attention=MultiHeadAttentionLayer(hid_dim, n_heads, dropout, device)\n",
    "        self.encoder_attention=MultiHeadAttentionLayer(hid_dim, n_heads, dropout, device)\n",
    "        self.positionwise_feedforward=PositionwiseFeedforwardLayer(hid_dim, pf_dim, dropout)\n",
    "        self.dropout=nn.Dropout(dropout)\n",
    "        \n",
    "    def forward(self, trg, enc_src, trg_mask, src_mask):\n",
    "        # trg=[batch_size, trg_len, hid_dim]\n",
    "        # enc_src=[batch_size, src_len, hid_dim]\n",
    "        # trg_mask=[batch_size, trg_len]\n",
    "        # src_mask=[batch_size, src_len]\n",
    "        \n",
    "        # self attention\n",
    "        _trg, _=self.self_attention(trg, trg, trg, trg_mask)\n",
    "        \n",
    "        # dropout, residual connection and layer norm\n",
    "        trg=self.layer_norm(trg+self.dropout(_trg))\n",
    "        # trg=[batch_size, trg_len, hid_dim]\n",
    "        \n",
    "        # encoder attention\n",
    "        _trg, attention=self.encoder_attention(trg, enc_src, enc_src, src_mask)\n",
    "        \n",
    "        # dropout, residual connection and layer norm\n",
    "        trg=self.layer_norm(trg+self.dropout(_trg))\n",
    "        \n",
    "        # trg=[batch_size, trg_len, hid_dim]\n",
    "        \n",
    "        # positionwise_feedforward\n",
    "        _trg=self.positionwise_feedforward(trg)\n",
    "        \n",
    "        # dropout, residual connection and layer_norm\n",
    "        trg=self.layer_norm(trg+self.dropout(_trg))\n",
    "        \n",
    "        # trg=[batch_size, trg_len, hid_dim]\n",
    "        # attention=[batch_size, n_heads, trg_len, src_len]\n",
    "        \n",
    "        return trg, attention"
   ]
  },
  {
   "cell_type": "markdown",
   "metadata": {},
   "source": [
    "## Seq2Seq"
   ]
  },
  {
   "cell_type": "code",
   "execution_count": 20,
   "metadata": {},
   "outputs": [],
   "source": [
    "class Seq2Seq(nn.Module):\n",
    "    def __init__(self, encoder, decoder, src_pad_idx, trg_pad_idx, device):\n",
    "        super().__init__()\n",
    "        self.encoder=encoder\n",
    "        self.decoder=decoder\n",
    "        self.src_pad_idx=src_pad_idx\n",
    "        self.trg_pad_idx=trg_pad_idx\n",
    "        self.device=device\n",
    "    \n",
    "    def make_src_mask(self, src):\n",
    "        # src=[batch_size, src_len]\n",
    "        \n",
    "        src_mask=(src!=self.src_pad_idx).unsqueeze(1).unsqueeze(2)\n",
    "        # src_mask=[batch_size, 1, 1, src_len]\n",
    "        \n",
    "        return src_mask\n",
    "    \n",
    "    def make_trg_mask(self, trg):\n",
    "        #trg=[batch_size, trg_len]\n",
    "        \n",
    "        trg_pad_mask=(trg!=self.trg_pad_idx).unsqueeze(1).unsqueeze(3)\n",
    "        # trg_pad_mask=[batch_size, 1, trg_len, 1]\n",
    "        \n",
    "        trg_len=trg.shape[1]\n",
    "        \n",
    "        trg_sub_mask = torch.tril(torch.ones((trg_len, trg_len), device = self.device)).bool()\n",
    "        # trg_mask=[trg_len, trg_len]\n",
    "        \n",
    "        trg_mask=trg_pad_mask & trg_sub_mask\n",
    "        # trg_mask=[batch_size, 1, trg_len, trg_len]\n",
    "        \n",
    "        return trg_mask\n",
    "    \n",
    "    def forward(self, src, trg):\n",
    "        # src=[batch_size, src_len]\n",
    "        # trg=[batch_size, trg_len]\n",
    "        \n",
    "        src_mask=self.make_src_mask(src)\n",
    "        trg_mask=self.make_trg_mask(trg)\n",
    "        # src_mask=[batch_size, 1, 1, src_len]\n",
    "        # trg_mask=[batch_size, 1, trg_len, trg_len]\n",
    "        \n",
    "        enc_src=self.encoder(src, src_mask)\n",
    "        # enc_src=[batch_size, src_len, hid_dim]\n",
    "        \n",
    "        output,attention=self.decoder(trg, enc_src, trg_mask, src_mask)\n",
    "        # output=[batch_size, trg_len, output_dim]\n",
    "        # attention=[batch_size, n_heads, trg_len, src_len]\n",
    "        \n",
    "        return output, attention"
   ]
  },
  {
   "cell_type": "markdown",
   "metadata": {},
   "source": [
    "# Training the Seq2Seq model"
   ]
  },
  {
   "cell_type": "code",
   "execution_count": 21,
   "metadata": {},
   "outputs": [],
   "source": [
    "INPUT_DIM=len(SRC.vocab)\n",
    "OUTPUT_DIM=len(TRG.vocab)\n",
    "\n",
    "HID_DIM=256\n",
    "ENC_LAYERS=3\n",
    "DEC_LAYERS=3\n",
    "ENC_HEADS=8\n",
    "DEC_HEADS=8\n",
    "ENC_PF_DIM=512\n",
    "DEC_PF_DIM=512\n",
    "ENC_DROPOUT=0.1\n",
    "DEC_DROPOUT=0.1\n",
    "\n",
    "enc=Encoder(INPUT_DIM, HID_DIM, ENC_LAYERS, ENC_HEADS, ENC_PF_DIM, ENC_DROPOUT, device)\n",
    "dec=Decoder(OUTPUT_DIM, HID_DIM, DEC_LAYERS, DEC_HEADS, DEC_PF_DIM, DEC_DROPOUT, device)"
   ]
  },
  {
   "cell_type": "code",
   "execution_count": 22,
   "metadata": {},
   "outputs": [],
   "source": [
    "SRC_PAD_IDX=SRC.vocab.stoi[SRC.pad_token]\n",
    "TRG_PAD_IDX=TRG.vocab.stoi[TRG.pad_token]\n",
    "\n",
    "model=Seq2Seq(enc, dec, SRC_PAD_IDX, TRG_PAD_IDX, device).to(device)"
   ]
  },
  {
   "cell_type": "code",
   "execution_count": 23,
   "metadata": {},
   "outputs": [
    {
     "name": "stdout",
     "output_type": "stream",
     "text": [
      "The model has 9,033,732 trainable parameters\n"
     ]
    }
   ],
   "source": [
    "def count_parameters(model):\n",
    "    return sum(p.numel() for p in model.parameters() if p.requires_grad)\n",
    "print(f'The model has {count_parameters(model):,} trainable parameters')"
   ]
  },
  {
   "cell_type": "code",
   "execution_count": 24,
   "metadata": {},
   "outputs": [],
   "source": [
    "def initialize_weights(m):\n",
    "    if hasattr(m, 'weight') and m.weight.dim()>1:\n",
    "        nn.init.xavier_uniform_(m.weight.data)"
   ]
  },
  {
   "cell_type": "code",
   "execution_count": 25,
   "metadata": {},
   "outputs": [],
   "source": [
    "model.apply(initialize_weights);"
   ]
  },
  {
   "cell_type": "code",
   "execution_count": 26,
   "metadata": {},
   "outputs": [],
   "source": [
    "LEARNING_RATE=0.0005\n",
    "optimizer=torch.optim.Adam(model.parameters(), lr=LEARNING_RATE)"
   ]
  },
  {
   "cell_type": "code",
   "execution_count": 27,
   "metadata": {},
   "outputs": [],
   "source": [
    "criterion=nn.CrossEntropyLoss(ignore_index=TRG_PAD_IDX)"
   ]
  },
  {
   "cell_type": "code",
   "execution_count": 28,
   "metadata": {},
   "outputs": [],
   "source": [
    "def train(model, iterator, optimizer, criterion, clip):\n",
    "    \n",
    "    model.train()\n",
    "    \n",
    "    epoch_loss=0\n",
    "    \n",
    "    for i, batch in enumerate(iterator):\n",
    "        \n",
    "        src=batch.src\n",
    "        trg=batch.trg\n",
    "        \n",
    "        optimizer.zero_grad()\n",
    "        \n",
    "        output, _ = model(src, trg[:, :-1])\n",
    "        # output=[batch_size, trg_len-1, output_dim]\n",
    "        # trg=[batch_size, trg_len]\n",
    "        \n",
    "        output_dim=output.shape[-1]\n",
    "        \n",
    "        output=output.contiguous().view(-1, output_dim)\n",
    "        trg=trg[:, 1:].contiguous().view(-1)\n",
    "        # output=[batch_size*trg_len-1, output_dim]\n",
    "        # trg=[batch_size*trg_len-1]\n",
    "        \n",
    "        loss=criterion(output, trg)\n",
    "        loss.backward()\n",
    "        torch.nn.utils.clip_grad_norm_(model.parameters(), clip)\n",
    "        \n",
    "        optimizer.step()\n",
    "        \n",
    "        epoch_loss+=loss.item()\n",
    "        \n",
    "    return epoch_loss/len(iterator)"
   ]
  },
  {
   "cell_type": "code",
   "execution_count": 32,
   "metadata": {},
   "outputs": [],
   "source": [
    "def evaluate(model, iterator, criterion):\n",
    "    \n",
    "    model.eval()\n",
    "    \n",
    "    epoch_loss=0\n",
    "    \n",
    "    with torch.no_grad():\n",
    "        for i, batch in enumerate(iterator):\n",
    "            \n",
    "            src=batch.src\n",
    "            trg=batch.trg\n",
    "            \n",
    "            output, _ = model(src, trg[:, :-1])\n",
    "            # output=[batch_size, trg_len-1, output_dim]\n",
    "            # trg=[batch_size, trg_len]\n",
    "            \n",
    "            output_dim=output.shape[-1]\n",
    "            \n",
    "            output=output.contiguous().view(-1, output_dim)\n",
    "            trg=trg[:, 1:].contiguous().view(-1)\n",
    "            # output=[batch_size*trg_len-1, output_dim]\n",
    "            # trg=[batch_size*trg_len-1]\n",
    "            \n",
    "            loss=criterion(output, trg)\n",
    "            \n",
    "            epoch_loss+=loss.item()\n",
    "            \n",
    "    return epoch_loss/len(iterator)"
   ]
  },
  {
   "cell_type": "code",
   "execution_count": 34,
   "metadata": {},
   "outputs": [],
   "source": [
    "def epoch_time(start_time, end_time):\n",
    "    elapsed_time=end_time-start_time\n",
    "    elapsed_min=int(elapsed_time/60)\n",
    "    elapsed_secs=int(elapsed_time-(elapsed_min*60))\n",
    "    return elapsed_min, elapsed_secs"
   ]
  },
  {
   "cell_type": "code",
   "execution_count": 35,
   "metadata": {},
   "outputs": [
    {
     "name": "stdout",
     "output_type": "stream",
     "text": [
      "Epoch: 01 | Time: 0m 41s\n",
      "\tTrain Loss: 1.251 | Train PPL:   3.493\n",
      "\t Val. Loss: 0.711 |  Val. PPL:   2.036\n",
      "Epoch: 02 | Time: 0m 41s\n",
      "\tTrain Loss: 0.745 | Train PPL:   2.107\n",
      "\t Val. Loss: 0.408 |  Val. PPL:   1.503\n",
      "Epoch: 03 | Time: 0m 41s\n",
      "\tTrain Loss: 0.445 | Train PPL:   1.560\n",
      "\t Val. Loss: 0.249 |  Val. PPL:   1.283\n",
      "Epoch: 04 | Time: 0m 42s\n",
      "\tTrain Loss: 0.264 | Train PPL:   1.302\n",
      "\t Val. Loss: 0.159 |  Val. PPL:   1.172\n",
      "Epoch: 05 | Time: 0m 42s\n",
      "\tTrain Loss: 0.162 | Train PPL:   1.176\n",
      "\t Val. Loss: 0.113 |  Val. PPL:   1.120\n",
      "Epoch: 06 | Time: 0m 42s\n",
      "\tTrain Loss: 0.109 | Train PPL:   1.116\n",
      "\t Val. Loss: 0.089 |  Val. PPL:   1.093\n",
      "Epoch: 07 | Time: 0m 41s\n",
      "\tTrain Loss: 0.077 | Train PPL:   1.081\n",
      "\t Val. Loss: 0.083 |  Val. PPL:   1.087\n",
      "Epoch: 08 | Time: 0m 41s\n",
      "\tTrain Loss: 0.059 | Train PPL:   1.061\n",
      "\t Val. Loss: 0.069 |  Val. PPL:   1.072\n",
      "Epoch: 09 | Time: 0m 41s\n",
      "\tTrain Loss: 0.050 | Train PPL:   1.051\n",
      "\t Val. Loss: 0.061 |  Val. PPL:   1.063\n",
      "Epoch: 10 | Time: 0m 41s\n",
      "\tTrain Loss: 0.042 | Train PPL:   1.043\n",
      "\t Val. Loss: 0.068 |  Val. PPL:   1.071\n"
     ]
    }
   ],
   "source": [
    "N_EPOCHS = 10\n",
    "CLIP = 1\n",
    "\n",
    "best_valid_loss = float('inf')\n",
    "\n",
    "for epoch in range(N_EPOCHS):\n",
    "    \n",
    "    start_time = time.time()\n",
    "    \n",
    "    train_loss = train(model, train_iterator, optimizer, criterion, CLIP)\n",
    "    valid_loss = evaluate(model, valid_iterator, criterion)\n",
    "    \n",
    "    end_time = time.time()\n",
    "    \n",
    "    epoch_mins, epoch_secs = epoch_time(start_time, end_time)\n",
    "    \n",
    "    if valid_loss < best_valid_loss:\n",
    "        best_valid_loss = valid_loss\n",
    "        torch.save(model.state_dict(), 'tut6-model.pt')\n",
    "    \n",
    "    print(f'Epoch: {epoch+1:02} | Time: {epoch_mins}m {epoch_secs}s')\n",
    "    print(f'\\tTrain Loss: {train_loss:.3f} | Train PPL: {math.exp(train_loss):7.3f}')\n",
    "    print(f'\\t Val. Loss: {valid_loss:.3f} |  Val. PPL: {math.exp(valid_loss):7.3f}')"
   ]
  },
  {
   "cell_type": "code",
   "execution_count": 36,
   "metadata": {},
   "outputs": [
    {
     "name": "stdout",
     "output_type": "stream",
     "text": [
      "| Test Loss: 0.071 | Test PPL:   1.073 |\n"
     ]
    }
   ],
   "source": [
    "model.load_state_dict(torch.load('tut6-model.pt'))\n",
    "\n",
    "test_loss = evaluate(model, test_iterator, criterion)\n",
    "\n",
    "print(f'| Test Loss: {test_loss:.3f} | Test PPL: {math.exp(test_loss):7.3f} |')"
   ]
  },
  {
   "cell_type": "code",
   "execution_count": null,
   "metadata": {},
   "outputs": [],
   "source": []
  }
 ],
 "metadata": {
  "kernelspec": {
   "display_name": "Python 3",
   "language": "python",
   "name": "python3"
  },
  "language_info": {
   "codemirror_mode": {
    "name": "ipython",
    "version": 3
   },
   "file_extension": ".py",
   "mimetype": "text/x-python",
   "name": "python",
   "nbconvert_exporter": "python",
   "pygments_lexer": "ipython3",
   "version": "3.7.6"
  }
 },
 "nbformat": 4,
 "nbformat_minor": 4
}
